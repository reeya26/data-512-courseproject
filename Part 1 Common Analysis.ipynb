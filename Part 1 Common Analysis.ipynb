{
 "cells": [
  {
   "cell_type": "markdown",
   "metadata": {},
   "source": [
    "# Part 1: Common Analysis"
   ]
  },
  {
   "cell_type": "markdown",
   "metadata": {},
   "source": [
    "### In this project, we analyse the social aspects of the pandemic by conducting a human centered data science analysis of some available COVID-19. \n",
    "\n",
    "### Analysis for Jackson county, Missouri from the period 1st February 2020 to 1st October 2021 "
   ]
  },
  {
   "cell_type": "markdown",
   "metadata": {},
   "source": [
    "## Step 0: Data Acquisition & Manipulation\n",
    "\n",
    "* 0.1 Importing all libraries required for the analysis\n",
    "* 0.2 Importing the 3 datasets from the following sources:\n",
    "\n",
    "    * The RAW_us_confirmed_cases.csv file from the Kaggle repository of John Hopkins University COVID-19 data.\n",
    "    * The CDC dataset of masking mandates by county. \n",
    "    * The New York Times mask compliance survey data.\n",
    "    \n",
    "* 0.3 Filtering the dataset to select Jackson county\n",
    "* 0.4 Filtering Jackson county datasets for fixed time period\n",
    "* 0.5 Saving Intermediary cleaned files as csv"
   ]
  },
  {
   "cell_type": "markdown",
   "metadata": {},
   "source": [
    "###  0.1 Importing all libraries required for the analysis"
   ]
  },
  {
   "cell_type": "code",
   "execution_count": 1,
   "metadata": {},
   "outputs": [],
   "source": [
    "import pandas as pd\n",
    "import numpy as np\n",
    "import ruptures as rpt\n",
    "import matplotlib.pyplot as plt\n",
    "import seaborn as sns"
   ]
  },
  {
   "cell_type": "markdown",
   "metadata": {},
   "source": [
    "### 0.2 Importing the 3 datasets"
   ]
  },
  {
   "cell_type": "code",
   "execution_count": 2,
   "metadata": {},
   "outputs": [],
   "source": [
    "raw_us_confirmed_cases = pd.read_csv(\"RAW_us_confirmed_cases.csv\")\n",
    "cdc_dataset = pd.read_csv(\"U.S._State_and_Territorial_Public_Mask_Mandates_From_April_10__2020_through_August_15__2021_by_County_by_Day.csv\")\n",
    "mask_compliance = pd.read_csv(\"mask-use-by-county.csv\")"
   ]
  },
  {
   "cell_type": "code",
   "execution_count": 3,
   "metadata": {},
   "outputs": [
    {
     "data": {
      "text/html": [
       "<div>\n",
       "<style scoped>\n",
       "    .dataframe tbody tr th:only-of-type {\n",
       "        vertical-align: middle;\n",
       "    }\n",
       "\n",
       "    .dataframe tbody tr th {\n",
       "        vertical-align: top;\n",
       "    }\n",
       "\n",
       "    .dataframe thead th {\n",
       "        text-align: right;\n",
       "    }\n",
       "</style>\n",
       "<table border=\"1\" class=\"dataframe\">\n",
       "  <thead>\n",
       "    <tr style=\"text-align: right;\">\n",
       "      <th></th>\n",
       "      <th>Province_State</th>\n",
       "      <th>Admin2</th>\n",
       "      <th>UID</th>\n",
       "      <th>iso2</th>\n",
       "      <th>iso3</th>\n",
       "      <th>code3</th>\n",
       "      <th>FIPS</th>\n",
       "      <th>Country_Region</th>\n",
       "      <th>Lat</th>\n",
       "      <th>Long_</th>\n",
       "      <th>...</th>\n",
       "      <th>10/22/22</th>\n",
       "      <th>10/23/22</th>\n",
       "      <th>10/24/22</th>\n",
       "      <th>10/25/22</th>\n",
       "      <th>10/26/22</th>\n",
       "      <th>10/27/22</th>\n",
       "      <th>10/28/22</th>\n",
       "      <th>10/29/22</th>\n",
       "      <th>10/30/22</th>\n",
       "      <th>10/31/22</th>\n",
       "    </tr>\n",
       "  </thead>\n",
       "  <tbody>\n",
       "    <tr>\n",
       "      <th>0</th>\n",
       "      <td>Alabama</td>\n",
       "      <td>Autauga</td>\n",
       "      <td>84001001</td>\n",
       "      <td>US</td>\n",
       "      <td>USA</td>\n",
       "      <td>840</td>\n",
       "      <td>1001.0</td>\n",
       "      <td>US</td>\n",
       "      <td>32.539527</td>\n",
       "      <td>-86.644082</td>\n",
       "      <td>...</td>\n",
       "      <td>18480</td>\n",
       "      <td>18480</td>\n",
       "      <td>18480</td>\n",
       "      <td>18480</td>\n",
       "      <td>18480</td>\n",
       "      <td>18511</td>\n",
       "      <td>18511</td>\n",
       "      <td>18511</td>\n",
       "      <td>18511</td>\n",
       "      <td>18511</td>\n",
       "    </tr>\n",
       "    <tr>\n",
       "      <th>1</th>\n",
       "      <td>Alabama</td>\n",
       "      <td>Baldwin</td>\n",
       "      <td>84001003</td>\n",
       "      <td>US</td>\n",
       "      <td>USA</td>\n",
       "      <td>840</td>\n",
       "      <td>1003.0</td>\n",
       "      <td>US</td>\n",
       "      <td>30.727750</td>\n",
       "      <td>-87.722071</td>\n",
       "      <td>...</td>\n",
       "      <td>65895</td>\n",
       "      <td>65895</td>\n",
       "      <td>65895</td>\n",
       "      <td>65895</td>\n",
       "      <td>65895</td>\n",
       "      <td>65973</td>\n",
       "      <td>65973</td>\n",
       "      <td>65973</td>\n",
       "      <td>65973</td>\n",
       "      <td>65973</td>\n",
       "    </tr>\n",
       "    <tr>\n",
       "      <th>2</th>\n",
       "      <td>Alabama</td>\n",
       "      <td>Barbour</td>\n",
       "      <td>84001005</td>\n",
       "      <td>US</td>\n",
       "      <td>USA</td>\n",
       "      <td>840</td>\n",
       "      <td>1005.0</td>\n",
       "      <td>US</td>\n",
       "      <td>31.868263</td>\n",
       "      <td>-85.387129</td>\n",
       "      <td>...</td>\n",
       "      <td>6926</td>\n",
       "      <td>6926</td>\n",
       "      <td>6926</td>\n",
       "      <td>6926</td>\n",
       "      <td>6926</td>\n",
       "      <td>6930</td>\n",
       "      <td>6930</td>\n",
       "      <td>6930</td>\n",
       "      <td>6930</td>\n",
       "      <td>6930</td>\n",
       "    </tr>\n",
       "    <tr>\n",
       "      <th>3</th>\n",
       "      <td>Alabama</td>\n",
       "      <td>Bibb</td>\n",
       "      <td>84001007</td>\n",
       "      <td>US</td>\n",
       "      <td>USA</td>\n",
       "      <td>840</td>\n",
       "      <td>1007.0</td>\n",
       "      <td>US</td>\n",
       "      <td>32.996421</td>\n",
       "      <td>-87.125115</td>\n",
       "      <td>...</td>\n",
       "      <td>7560</td>\n",
       "      <td>7560</td>\n",
       "      <td>7560</td>\n",
       "      <td>7560</td>\n",
       "      <td>7560</td>\n",
       "      <td>7575</td>\n",
       "      <td>7575</td>\n",
       "      <td>7575</td>\n",
       "      <td>7575</td>\n",
       "      <td>7575</td>\n",
       "    </tr>\n",
       "    <tr>\n",
       "      <th>4</th>\n",
       "      <td>Alabama</td>\n",
       "      <td>Blount</td>\n",
       "      <td>84001009</td>\n",
       "      <td>US</td>\n",
       "      <td>USA</td>\n",
       "      <td>840</td>\n",
       "      <td>1009.0</td>\n",
       "      <td>US</td>\n",
       "      <td>33.982109</td>\n",
       "      <td>-86.567906</td>\n",
       "      <td>...</td>\n",
       "      <td>17286</td>\n",
       "      <td>17286</td>\n",
       "      <td>17286</td>\n",
       "      <td>17286</td>\n",
       "      <td>17286</td>\n",
       "      <td>17320</td>\n",
       "      <td>17320</td>\n",
       "      <td>17320</td>\n",
       "      <td>17320</td>\n",
       "      <td>17320</td>\n",
       "    </tr>\n",
       "  </tbody>\n",
       "</table>\n",
       "<p>5 rows × 1025 columns</p>\n",
       "</div>"
      ],
      "text/plain": [
       "  Province_State   Admin2       UID iso2 iso3  code3    FIPS Country_Region  \\\n",
       "0        Alabama  Autauga  84001001   US  USA    840  1001.0             US   \n",
       "1        Alabama  Baldwin  84001003   US  USA    840  1003.0             US   \n",
       "2        Alabama  Barbour  84001005   US  USA    840  1005.0             US   \n",
       "3        Alabama     Bibb  84001007   US  USA    840  1007.0             US   \n",
       "4        Alabama   Blount  84001009   US  USA    840  1009.0             US   \n",
       "\n",
       "         Lat      Long_  ... 10/22/22  10/23/22  10/24/22  10/25/22  10/26/22  \\\n",
       "0  32.539527 -86.644082  ...    18480     18480     18480     18480     18480   \n",
       "1  30.727750 -87.722071  ...    65895     65895     65895     65895     65895   \n",
       "2  31.868263 -85.387129  ...     6926      6926      6926      6926      6926   \n",
       "3  32.996421 -87.125115  ...     7560      7560      7560      7560      7560   \n",
       "4  33.982109 -86.567906  ...    17286     17286     17286     17286     17286   \n",
       "\n",
       "   10/27/22  10/28/22  10/29/22  10/30/22  10/31/22  \n",
       "0     18511     18511     18511     18511     18511  \n",
       "1     65973     65973     65973     65973     65973  \n",
       "2      6930      6930      6930      6930      6930  \n",
       "3      7575      7575      7575      7575      7575  \n",
       "4     17320     17320     17320     17320     17320  \n",
       "\n",
       "[5 rows x 1025 columns]"
      ]
     },
     "execution_count": 3,
     "metadata": {},
     "output_type": "execute_result"
    }
   ],
   "source": [
    "raw_us_confirmed_cases.head()"
   ]
  },
  {
   "cell_type": "code",
   "execution_count": 4,
   "metadata": {},
   "outputs": [
    {
     "data": {
      "text/html": [
       "<div>\n",
       "<style scoped>\n",
       "    .dataframe tbody tr th:only-of-type {\n",
       "        vertical-align: middle;\n",
       "    }\n",
       "\n",
       "    .dataframe tbody tr th {\n",
       "        vertical-align: top;\n",
       "    }\n",
       "\n",
       "    .dataframe thead th {\n",
       "        text-align: right;\n",
       "    }\n",
       "</style>\n",
       "<table border=\"1\" class=\"dataframe\">\n",
       "  <thead>\n",
       "    <tr style=\"text-align: right;\">\n",
       "      <th></th>\n",
       "      <th>State_Tribe_Territory</th>\n",
       "      <th>County_Name</th>\n",
       "      <th>FIPS_State</th>\n",
       "      <th>FIPS_County</th>\n",
       "      <th>date</th>\n",
       "      <th>order_code</th>\n",
       "      <th>Face_Masks_Required_in_Public</th>\n",
       "      <th>Source_of_Action</th>\n",
       "      <th>URL</th>\n",
       "      <th>Citation</th>\n",
       "    </tr>\n",
       "  </thead>\n",
       "  <tbody>\n",
       "    <tr>\n",
       "      <th>0</th>\n",
       "      <td>AL</td>\n",
       "      <td>Autauga County</td>\n",
       "      <td>1</td>\n",
       "      <td>1</td>\n",
       "      <td>4/10/2020</td>\n",
       "      <td>2</td>\n",
       "      <td>NaN</td>\n",
       "      <td>NaN</td>\n",
       "      <td>NaN</td>\n",
       "      <td>NaN</td>\n",
       "    </tr>\n",
       "    <tr>\n",
       "      <th>1</th>\n",
       "      <td>AL</td>\n",
       "      <td>Autauga County</td>\n",
       "      <td>1</td>\n",
       "      <td>1</td>\n",
       "      <td>4/11/2020</td>\n",
       "      <td>2</td>\n",
       "      <td>NaN</td>\n",
       "      <td>NaN</td>\n",
       "      <td>NaN</td>\n",
       "      <td>NaN</td>\n",
       "    </tr>\n",
       "    <tr>\n",
       "      <th>2</th>\n",
       "      <td>AL</td>\n",
       "      <td>Autauga County</td>\n",
       "      <td>1</td>\n",
       "      <td>1</td>\n",
       "      <td>4/12/2020</td>\n",
       "      <td>2</td>\n",
       "      <td>NaN</td>\n",
       "      <td>NaN</td>\n",
       "      <td>NaN</td>\n",
       "      <td>NaN</td>\n",
       "    </tr>\n",
       "    <tr>\n",
       "      <th>3</th>\n",
       "      <td>AL</td>\n",
       "      <td>Autauga County</td>\n",
       "      <td>1</td>\n",
       "      <td>1</td>\n",
       "      <td>4/13/2020</td>\n",
       "      <td>2</td>\n",
       "      <td>NaN</td>\n",
       "      <td>NaN</td>\n",
       "      <td>NaN</td>\n",
       "      <td>NaN</td>\n",
       "    </tr>\n",
       "    <tr>\n",
       "      <th>4</th>\n",
       "      <td>AL</td>\n",
       "      <td>Autauga County</td>\n",
       "      <td>1</td>\n",
       "      <td>1</td>\n",
       "      <td>4/14/2020</td>\n",
       "      <td>2</td>\n",
       "      <td>NaN</td>\n",
       "      <td>NaN</td>\n",
       "      <td>NaN</td>\n",
       "      <td>NaN</td>\n",
       "    </tr>\n",
       "  </tbody>\n",
       "</table>\n",
       "</div>"
      ],
      "text/plain": [
       "  State_Tribe_Territory     County_Name  FIPS_State  FIPS_County       date  \\\n",
       "0                    AL  Autauga County           1            1  4/10/2020   \n",
       "1                    AL  Autauga County           1            1  4/11/2020   \n",
       "2                    AL  Autauga County           1            1  4/12/2020   \n",
       "3                    AL  Autauga County           1            1  4/13/2020   \n",
       "4                    AL  Autauga County           1            1  4/14/2020   \n",
       "\n",
       "   order_code Face_Masks_Required_in_Public Source_of_Action  URL Citation  \n",
       "0           2                           NaN              NaN  NaN      NaN  \n",
       "1           2                           NaN              NaN  NaN      NaN  \n",
       "2           2                           NaN              NaN  NaN      NaN  \n",
       "3           2                           NaN              NaN  NaN      NaN  \n",
       "4           2                           NaN              NaN  NaN      NaN  "
      ]
     },
     "execution_count": 4,
     "metadata": {},
     "output_type": "execute_result"
    }
   ],
   "source": [
    "cdc_dataset.head()"
   ]
  },
  {
   "cell_type": "code",
   "execution_count": 5,
   "metadata": {},
   "outputs": [
    {
     "data": {
      "text/html": [
       "<div>\n",
       "<style scoped>\n",
       "    .dataframe tbody tr th:only-of-type {\n",
       "        vertical-align: middle;\n",
       "    }\n",
       "\n",
       "    .dataframe tbody tr th {\n",
       "        vertical-align: top;\n",
       "    }\n",
       "\n",
       "    .dataframe thead th {\n",
       "        text-align: right;\n",
       "    }\n",
       "</style>\n",
       "<table border=\"1\" class=\"dataframe\">\n",
       "  <thead>\n",
       "    <tr style=\"text-align: right;\">\n",
       "      <th></th>\n",
       "      <th>COUNTYFP</th>\n",
       "      <th>NEVER</th>\n",
       "      <th>RARELY</th>\n",
       "      <th>SOMETIMES</th>\n",
       "      <th>FREQUENTLY</th>\n",
       "      <th>ALWAYS</th>\n",
       "    </tr>\n",
       "  </thead>\n",
       "  <tbody>\n",
       "    <tr>\n",
       "      <th>0</th>\n",
       "      <td>1001</td>\n",
       "      <td>0.053</td>\n",
       "      <td>0.074</td>\n",
       "      <td>0.134</td>\n",
       "      <td>0.295</td>\n",
       "      <td>0.444</td>\n",
       "    </tr>\n",
       "    <tr>\n",
       "      <th>1</th>\n",
       "      <td>1003</td>\n",
       "      <td>0.083</td>\n",
       "      <td>0.059</td>\n",
       "      <td>0.098</td>\n",
       "      <td>0.323</td>\n",
       "      <td>0.436</td>\n",
       "    </tr>\n",
       "    <tr>\n",
       "      <th>2</th>\n",
       "      <td>1005</td>\n",
       "      <td>0.067</td>\n",
       "      <td>0.121</td>\n",
       "      <td>0.120</td>\n",
       "      <td>0.201</td>\n",
       "      <td>0.491</td>\n",
       "    </tr>\n",
       "    <tr>\n",
       "      <th>3</th>\n",
       "      <td>1007</td>\n",
       "      <td>0.020</td>\n",
       "      <td>0.034</td>\n",
       "      <td>0.096</td>\n",
       "      <td>0.278</td>\n",
       "      <td>0.572</td>\n",
       "    </tr>\n",
       "    <tr>\n",
       "      <th>4</th>\n",
       "      <td>1009</td>\n",
       "      <td>0.053</td>\n",
       "      <td>0.114</td>\n",
       "      <td>0.180</td>\n",
       "      <td>0.194</td>\n",
       "      <td>0.459</td>\n",
       "    </tr>\n",
       "  </tbody>\n",
       "</table>\n",
       "</div>"
      ],
      "text/plain": [
       "   COUNTYFP  NEVER  RARELY  SOMETIMES  FREQUENTLY  ALWAYS\n",
       "0      1001  0.053   0.074      0.134       0.295   0.444\n",
       "1      1003  0.083   0.059      0.098       0.323   0.436\n",
       "2      1005  0.067   0.121      0.120       0.201   0.491\n",
       "3      1007  0.020   0.034      0.096       0.278   0.572\n",
       "4      1009  0.053   0.114      0.180       0.194   0.459"
      ]
     },
     "execution_count": 5,
     "metadata": {},
     "output_type": "execute_result"
    }
   ],
   "source": [
    "mask_compliance.head()"
   ]
  },
  {
   "cell_type": "markdown",
   "metadata": {},
   "source": [
    "### 0.3 Filtering the dataset to select Jackson county"
   ]
  },
  {
   "cell_type": "code",
   "execution_count": 6,
   "metadata": {},
   "outputs": [
    {
     "data": {
      "text/html": [
       "<div>\n",
       "<style scoped>\n",
       "    .dataframe tbody tr th:only-of-type {\n",
       "        vertical-align: middle;\n",
       "    }\n",
       "\n",
       "    .dataframe tbody tr th {\n",
       "        vertical-align: top;\n",
       "    }\n",
       "\n",
       "    .dataframe thead th {\n",
       "        text-align: right;\n",
       "    }\n",
       "</style>\n",
       "<table border=\"1\" class=\"dataframe\">\n",
       "  <thead>\n",
       "    <tr style=\"text-align: right;\">\n",
       "      <th></th>\n",
       "      <th>Province_State</th>\n",
       "      <th>Admin2</th>\n",
       "      <th>UID</th>\n",
       "      <th>iso2</th>\n",
       "      <th>iso3</th>\n",
       "      <th>code3</th>\n",
       "      <th>FIPS</th>\n",
       "      <th>Country_Region</th>\n",
       "      <th>Lat</th>\n",
       "      <th>Long_</th>\n",
       "      <th>...</th>\n",
       "      <th>10/22/22</th>\n",
       "      <th>10/23/22</th>\n",
       "      <th>10/24/22</th>\n",
       "      <th>10/25/22</th>\n",
       "      <th>10/26/22</th>\n",
       "      <th>10/27/22</th>\n",
       "      <th>10/28/22</th>\n",
       "      <th>10/29/22</th>\n",
       "      <th>10/30/22</th>\n",
       "      <th>10/31/22</th>\n",
       "    </tr>\n",
       "  </thead>\n",
       "  <tbody>\n",
       "    <tr>\n",
       "      <th>1589</th>\n",
       "      <td>Missouri</td>\n",
       "      <td>Jackson</td>\n",
       "      <td>84029095</td>\n",
       "      <td>US</td>\n",
       "      <td>USA</td>\n",
       "      <td>840</td>\n",
       "      <td>29095.0</td>\n",
       "      <td>US</td>\n",
       "      <td>39.010022</td>\n",
       "      <td>-94.347245</td>\n",
       "      <td>...</td>\n",
       "      <td>113419</td>\n",
       "      <td>113419</td>\n",
       "      <td>113480</td>\n",
       "      <td>113514</td>\n",
       "      <td>113560</td>\n",
       "      <td>113595</td>\n",
       "      <td>113595</td>\n",
       "      <td>113595</td>\n",
       "      <td>113595</td>\n",
       "      <td>113595</td>\n",
       "    </tr>\n",
       "  </tbody>\n",
       "</table>\n",
       "<p>1 rows × 1025 columns</p>\n",
       "</div>"
      ],
      "text/plain": [
       "     Province_State   Admin2       UID iso2 iso3  code3     FIPS  \\\n",
       "1589       Missouri  Jackson  84029095   US  USA    840  29095.0   \n",
       "\n",
       "     Country_Region        Lat      Long_  ... 10/22/22  10/23/22  10/24/22  \\\n",
       "1589             US  39.010022 -94.347245  ...   113419    113419    113480   \n",
       "\n",
       "      10/25/22  10/26/22  10/27/22  10/28/22  10/29/22  10/30/22  10/31/22  \n",
       "1589    113514    113560    113595    113595    113595    113595    113595  \n",
       "\n",
       "[1 rows x 1025 columns]"
      ]
     },
     "execution_count": 6,
     "metadata": {},
     "output_type": "execute_result"
    }
   ],
   "source": [
    "# Filtering the Raw US confirmed cases\n",
    "\n",
    "\n",
    "jackson_confirmedcases = raw_us_confirmed_cases.loc[(raw_us_confirmed_cases[\"Admin2\"] == \"Jackson\") & \n",
    "                                                    (raw_us_confirmed_cases[\"Province_State\"] == \"Missouri\")]\n",
    "\n",
    "jackson_fips = int(jackson_confirmedcases['FIPS'].values[0])\n",
    "jackson_confirmedcases.head()\n"
   ]
  },
  {
   "cell_type": "code",
   "execution_count": 7,
   "metadata": {},
   "outputs": [
    {
     "name": "stdout",
     "output_type": "stream",
     "text": [
      "In the FIPS value, the first two digits represents State FIPS and last two represents County FIPS value 29095\n"
     ]
    }
   ],
   "source": [
    "print(\"In the FIPS value, the first two digits represents State FIPS and last two represents County FIPS value\",jackson_fips)"
   ]
  },
  {
   "cell_type": "code",
   "execution_count": 8,
   "metadata": {},
   "outputs": [
    {
     "name": "stderr",
     "output_type": "stream",
     "text": [
      "<ipython-input-8-849f6ff3fc06>:6: SettingWithCopyWarning: \n",
      "A value is trying to be set on a copy of a slice from a DataFrame.\n",
      "Try using .loc[row_indexer,col_indexer] = value instead\n",
      "\n",
      "See the caveats in the documentation: https://pandas.pydata.org/pandas-docs/stable/user_guide/indexing.html#returning-a-view-versus-a-copy\n",
      "  cdc_jackson[\"Face_Masks_Required_in_Public\"] = cdc_jackson[\"Face_Masks_Required_in_Public\"].fillna(\"No\")\n"
     ]
    },
    {
     "data": {
      "text/html": [
       "<div>\n",
       "<style scoped>\n",
       "    .dataframe tbody tr th:only-of-type {\n",
       "        vertical-align: middle;\n",
       "    }\n",
       "\n",
       "    .dataframe tbody tr th {\n",
       "        vertical-align: top;\n",
       "    }\n",
       "\n",
       "    .dataframe thead th {\n",
       "        text-align: right;\n",
       "    }\n",
       "</style>\n",
       "<table border=\"1\" class=\"dataframe\">\n",
       "  <thead>\n",
       "    <tr style=\"text-align: right;\">\n",
       "      <th></th>\n",
       "      <th>State_Tribe_Territory</th>\n",
       "      <th>County_Name</th>\n",
       "      <th>FIPS_State</th>\n",
       "      <th>FIPS_County</th>\n",
       "      <th>date</th>\n",
       "      <th>order_code</th>\n",
       "      <th>Face_Masks_Required_in_Public</th>\n",
       "      <th>Source_of_Action</th>\n",
       "      <th>URL</th>\n",
       "      <th>Citation</th>\n",
       "    </tr>\n",
       "  </thead>\n",
       "  <tbody>\n",
       "    <tr>\n",
       "      <th>1207510</th>\n",
       "      <td>MO</td>\n",
       "      <td>Jackson County</td>\n",
       "      <td>29</td>\n",
       "      <td>95</td>\n",
       "      <td>8/11/2021</td>\n",
       "      <td>2</td>\n",
       "      <td>No</td>\n",
       "      <td>NaN</td>\n",
       "      <td>NaN</td>\n",
       "      <td>NaN</td>\n",
       "    </tr>\n",
       "    <tr>\n",
       "      <th>1207511</th>\n",
       "      <td>MO</td>\n",
       "      <td>Jackson County</td>\n",
       "      <td>29</td>\n",
       "      <td>95</td>\n",
       "      <td>8/12/2021</td>\n",
       "      <td>2</td>\n",
       "      <td>No</td>\n",
       "      <td>NaN</td>\n",
       "      <td>NaN</td>\n",
       "      <td>NaN</td>\n",
       "    </tr>\n",
       "    <tr>\n",
       "      <th>1207512</th>\n",
       "      <td>MO</td>\n",
       "      <td>Jackson County</td>\n",
       "      <td>29</td>\n",
       "      <td>95</td>\n",
       "      <td>8/13/2021</td>\n",
       "      <td>2</td>\n",
       "      <td>No</td>\n",
       "      <td>NaN</td>\n",
       "      <td>NaN</td>\n",
       "      <td>NaN</td>\n",
       "    </tr>\n",
       "    <tr>\n",
       "      <th>1207513</th>\n",
       "      <td>MO</td>\n",
       "      <td>Jackson County</td>\n",
       "      <td>29</td>\n",
       "      <td>95</td>\n",
       "      <td>8/14/2021</td>\n",
       "      <td>2</td>\n",
       "      <td>No</td>\n",
       "      <td>NaN</td>\n",
       "      <td>NaN</td>\n",
       "      <td>NaN</td>\n",
       "    </tr>\n",
       "    <tr>\n",
       "      <th>1207514</th>\n",
       "      <td>MO</td>\n",
       "      <td>Jackson County</td>\n",
       "      <td>29</td>\n",
       "      <td>95</td>\n",
       "      <td>8/15/2021</td>\n",
       "      <td>2</td>\n",
       "      <td>No</td>\n",
       "      <td>NaN</td>\n",
       "      <td>NaN</td>\n",
       "      <td>NaN</td>\n",
       "    </tr>\n",
       "  </tbody>\n",
       "</table>\n",
       "</div>"
      ],
      "text/plain": [
       "        State_Tribe_Territory     County_Name  FIPS_State  FIPS_County  \\\n",
       "1207510                    MO  Jackson County          29           95   \n",
       "1207511                    MO  Jackson County          29           95   \n",
       "1207512                    MO  Jackson County          29           95   \n",
       "1207513                    MO  Jackson County          29           95   \n",
       "1207514                    MO  Jackson County          29           95   \n",
       "\n",
       "              date  order_code Face_Masks_Required_in_Public Source_of_Action  \\\n",
       "1207510  8/11/2021           2                            No              NaN   \n",
       "1207511  8/12/2021           2                            No              NaN   \n",
       "1207512  8/13/2021           2                            No              NaN   \n",
       "1207513  8/14/2021           2                            No              NaN   \n",
       "1207514  8/15/2021           2                            No              NaN   \n",
       "\n",
       "         URL Citation  \n",
       "1207510  NaN      NaN  \n",
       "1207511  NaN      NaN  \n",
       "1207512  NaN      NaN  \n",
       "1207513  NaN      NaN  \n",
       "1207514  NaN      NaN  "
      ]
     },
     "execution_count": 8,
     "metadata": {},
     "output_type": "execute_result"
    }
   ],
   "source": [
    "# We use the FIPS code given above, which is 29095 for Jackson country\n",
    "\n",
    "cdc_jackson = cdc_dataset.loc[(cdc_dataset[\"FIPS_State\"] == 29) & (cdc_dataset[\"FIPS_County\"] == 95)]\n",
    "\n",
    "# Subsituting N/A with No for masking policies\n",
    "cdc_jackson[\"Face_Masks_Required_in_Public\"] = cdc_jackson[\"Face_Masks_Required_in_Public\"].fillna(\"No\")\n",
    "cdc_jackson.tail()\n"
   ]
  },
  {
   "cell_type": "code",
   "execution_count": 9,
   "metadata": {},
   "outputs": [
    {
     "name": "stdout",
     "output_type": "stream",
     "text": [
      "Length of Dataframe 493\n",
      "Number of rows where Face Masks are not required in public 493\n"
     ]
    }
   ],
   "source": [
    "print(\"Length of Dataframe\", len(cdc_jackson))\n",
    "count_no_mask = cdc_jackson['Face_Masks_Required_in_Public'].value_counts()[0]\n",
    "print(\"Number of rows where Face Masks are not required in public\",count_no_mask  )"
   ]
  },
  {
   "cell_type": "markdown",
   "metadata": {},
   "source": [
    "### ^ It is important to note here, that according to the CDC Mandate guidelines for Jackson county, Face Masks were not required in public"
   ]
  },
  {
   "cell_type": "code",
   "execution_count": 10,
   "metadata": {},
   "outputs": [
    {
     "data": {
      "text/html": [
       "<div>\n",
       "<style scoped>\n",
       "    .dataframe tbody tr th:only-of-type {\n",
       "        vertical-align: middle;\n",
       "    }\n",
       "\n",
       "    .dataframe tbody tr th {\n",
       "        vertical-align: top;\n",
       "    }\n",
       "\n",
       "    .dataframe thead th {\n",
       "        text-align: right;\n",
       "    }\n",
       "</style>\n",
       "<table border=\"1\" class=\"dataframe\">\n",
       "  <thead>\n",
       "    <tr style=\"text-align: right;\">\n",
       "      <th></th>\n",
       "      <th>COUNTYFP</th>\n",
       "      <th>NEVER</th>\n",
       "      <th>RARELY</th>\n",
       "      <th>SOMETIMES</th>\n",
       "      <th>FREQUENTLY</th>\n",
       "      <th>ALWAYS</th>\n",
       "    </tr>\n",
       "  </thead>\n",
       "  <tbody>\n",
       "    <tr>\n",
       "      <th>1530</th>\n",
       "      <td>29095</td>\n",
       "      <td>0.027</td>\n",
       "      <td>0.066</td>\n",
       "      <td>0.088</td>\n",
       "      <td>0.21</td>\n",
       "      <td>0.609</td>\n",
       "    </tr>\n",
       "  </tbody>\n",
       "</table>\n",
       "</div>"
      ],
      "text/plain": [
       "      COUNTYFP  NEVER  RARELY  SOMETIMES  FREQUENTLY  ALWAYS\n",
       "1530     29095  0.027   0.066      0.088        0.21   0.609"
      ]
     },
     "execution_count": 10,
     "metadata": {},
     "output_type": "execute_result"
    }
   ],
   "source": [
    "jackson_mask_compliance = mask_compliance.loc[mask_compliance['COUNTYFP']== jackson_fips]\n",
    "jackson_mask_compliance.head()"
   ]
  },
  {
   "cell_type": "markdown",
   "metadata": {},
   "source": [
    "### 0.4 Filtering Jackson county datasets for fixed time period from 1st February 2020 to 1st October 2021"
   ]
  },
  {
   "cell_type": "code",
   "execution_count": 11,
   "metadata": {},
   "outputs": [
    {
     "data": {
      "text/html": [
       "<div>\n",
       "<style scoped>\n",
       "    .dataframe tbody tr th:only-of-type {\n",
       "        vertical-align: middle;\n",
       "    }\n",
       "\n",
       "    .dataframe tbody tr th {\n",
       "        vertical-align: top;\n",
       "    }\n",
       "\n",
       "    .dataframe thead th {\n",
       "        text-align: right;\n",
       "    }\n",
       "</style>\n",
       "<table border=\"1\" class=\"dataframe\">\n",
       "  <thead>\n",
       "    <tr style=\"text-align: right;\">\n",
       "      <th></th>\n",
       "      <th>Combined_Key</th>\n",
       "      <th>date</th>\n",
       "      <th>cases</th>\n",
       "    </tr>\n",
       "  </thead>\n",
       "  <tbody>\n",
       "    <tr>\n",
       "      <th>0</th>\n",
       "      <td>Jackson, Missouri, US</td>\n",
       "      <td>2020-02-01</td>\n",
       "      <td>0</td>\n",
       "    </tr>\n",
       "    <tr>\n",
       "      <th>1</th>\n",
       "      <td>Jackson, Missouri, US</td>\n",
       "      <td>2020-02-02</td>\n",
       "      <td>0</td>\n",
       "    </tr>\n",
       "    <tr>\n",
       "      <th>2</th>\n",
       "      <td>Jackson, Missouri, US</td>\n",
       "      <td>2020-02-03</td>\n",
       "      <td>0</td>\n",
       "    </tr>\n",
       "    <tr>\n",
       "      <th>3</th>\n",
       "      <td>Jackson, Missouri, US</td>\n",
       "      <td>2020-02-04</td>\n",
       "      <td>0</td>\n",
       "    </tr>\n",
       "    <tr>\n",
       "      <th>4</th>\n",
       "      <td>Jackson, Missouri, US</td>\n",
       "      <td>2020-02-05</td>\n",
       "      <td>0</td>\n",
       "    </tr>\n",
       "  </tbody>\n",
       "</table>\n",
       "</div>"
      ],
      "text/plain": [
       "            Combined_Key       date  cases\n",
       "0  Jackson, Missouri, US 2020-02-01      0\n",
       "1  Jackson, Missouri, US 2020-02-02      0\n",
       "2  Jackson, Missouri, US 2020-02-03      0\n",
       "3  Jackson, Missouri, US 2020-02-04      0\n",
       "4  Jackson, Missouri, US 2020-02-05      0"
      ]
     },
     "execution_count": 11,
     "metadata": {},
     "output_type": "execute_result"
    }
   ],
   "source": [
    "# Pivoting raw confirmed cases data to long format\n",
    "jackson_cases = pd.melt(jackson_confirmedcases, id_vars = jackson_confirmedcases.columns[0:11], var_name = 'date', value_name = 'cases')\n",
    "jackson_cases['date'] = pd.to_datetime(jackson_cases['date'], format = '%m/%d/%y')\n",
    "\n",
    "# Filtering the dates\n",
    "jackson_cases = jackson_cases.loc[(jackson_cases['date'] >= '2020-02-01') & (jackson_cases['date'] <= '2021-10-01')]\n",
    "\n",
    "\n",
    "# Subsetting dataframe to only keep relevant columns\n",
    "\n",
    "jackson_cases =  jackson_cases[jackson_cases.columns[10:]]\n",
    "jackson_cases.reset_index(inplace = True, drop = True)\n",
    "jackson_cases.head()"
   ]
  },
  {
   "cell_type": "code",
   "execution_count": 12,
   "metadata": {},
   "outputs": [
    {
     "name": "stderr",
     "output_type": "stream",
     "text": [
      "<ipython-input-12-a68850c65ddd>:1: SettingWithCopyWarning: \n",
      "A value is trying to be set on a copy of a slice from a DataFrame.\n",
      "Try using .loc[row_indexer,col_indexer] = value instead\n",
      "\n",
      "See the caveats in the documentation: https://pandas.pydata.org/pandas-docs/stable/user_guide/indexing.html#returning-a-view-versus-a-copy\n",
      "  cdc_jackson['date'] = pd.to_datetime(cdc_jackson['date'])\n"
     ]
    },
    {
     "data": {
      "text/html": [
       "<div>\n",
       "<style scoped>\n",
       "    .dataframe tbody tr th:only-of-type {\n",
       "        vertical-align: middle;\n",
       "    }\n",
       "\n",
       "    .dataframe tbody tr th {\n",
       "        vertical-align: top;\n",
       "    }\n",
       "\n",
       "    .dataframe thead th {\n",
       "        text-align: right;\n",
       "    }\n",
       "</style>\n",
       "<table border=\"1\" class=\"dataframe\">\n",
       "  <thead>\n",
       "    <tr style=\"text-align: right;\">\n",
       "      <th></th>\n",
       "      <th>State_Tribe_Territory</th>\n",
       "      <th>County_Name</th>\n",
       "      <th>FIPS_State</th>\n",
       "      <th>FIPS_County</th>\n",
       "      <th>date</th>\n",
       "      <th>order_code</th>\n",
       "      <th>Face_Masks_Required_in_Public</th>\n",
       "      <th>Source_of_Action</th>\n",
       "      <th>URL</th>\n",
       "      <th>Citation</th>\n",
       "    </tr>\n",
       "  </thead>\n",
       "  <tbody>\n",
       "    <tr>\n",
       "      <th>406980</th>\n",
       "      <td>MO</td>\n",
       "      <td>Jackson County</td>\n",
       "      <td>29</td>\n",
       "      <td>95</td>\n",
       "      <td>2020-04-10</td>\n",
       "      <td>2</td>\n",
       "      <td>No</td>\n",
       "      <td>NaN</td>\n",
       "      <td>NaN</td>\n",
       "      <td>NaN</td>\n",
       "    </tr>\n",
       "    <tr>\n",
       "      <th>406981</th>\n",
       "      <td>MO</td>\n",
       "      <td>Jackson County</td>\n",
       "      <td>29</td>\n",
       "      <td>95</td>\n",
       "      <td>2020-04-11</td>\n",
       "      <td>2</td>\n",
       "      <td>No</td>\n",
       "      <td>NaN</td>\n",
       "      <td>NaN</td>\n",
       "      <td>NaN</td>\n",
       "    </tr>\n",
       "    <tr>\n",
       "      <th>406982</th>\n",
       "      <td>MO</td>\n",
       "      <td>Jackson County</td>\n",
       "      <td>29</td>\n",
       "      <td>95</td>\n",
       "      <td>2020-04-12</td>\n",
       "      <td>2</td>\n",
       "      <td>No</td>\n",
       "      <td>NaN</td>\n",
       "      <td>NaN</td>\n",
       "      <td>NaN</td>\n",
       "    </tr>\n",
       "    <tr>\n",
       "      <th>406983</th>\n",
       "      <td>MO</td>\n",
       "      <td>Jackson County</td>\n",
       "      <td>29</td>\n",
       "      <td>95</td>\n",
       "      <td>2020-04-13</td>\n",
       "      <td>2</td>\n",
       "      <td>No</td>\n",
       "      <td>NaN</td>\n",
       "      <td>NaN</td>\n",
       "      <td>NaN</td>\n",
       "    </tr>\n",
       "    <tr>\n",
       "      <th>406984</th>\n",
       "      <td>MO</td>\n",
       "      <td>Jackson County</td>\n",
       "      <td>29</td>\n",
       "      <td>95</td>\n",
       "      <td>2020-04-14</td>\n",
       "      <td>2</td>\n",
       "      <td>No</td>\n",
       "      <td>NaN</td>\n",
       "      <td>NaN</td>\n",
       "      <td>NaN</td>\n",
       "    </tr>\n",
       "  </tbody>\n",
       "</table>\n",
       "</div>"
      ],
      "text/plain": [
       "       State_Tribe_Territory     County_Name  FIPS_State  FIPS_County  \\\n",
       "406980                    MO  Jackson County          29           95   \n",
       "406981                    MO  Jackson County          29           95   \n",
       "406982                    MO  Jackson County          29           95   \n",
       "406983                    MO  Jackson County          29           95   \n",
       "406984                    MO  Jackson County          29           95   \n",
       "\n",
       "             date  order_code Face_Masks_Required_in_Public Source_of_Action  \\\n",
       "406980 2020-04-10           2                            No              NaN   \n",
       "406981 2020-04-11           2                            No              NaN   \n",
       "406982 2020-04-12           2                            No              NaN   \n",
       "406983 2020-04-13           2                            No              NaN   \n",
       "406984 2020-04-14           2                            No              NaN   \n",
       "\n",
       "        URL Citation  \n",
       "406980  NaN      NaN  \n",
       "406981  NaN      NaN  \n",
       "406982  NaN      NaN  \n",
       "406983  NaN      NaN  \n",
       "406984  NaN      NaN  "
      ]
     },
     "execution_count": 12,
     "metadata": {},
     "output_type": "execute_result"
    }
   ],
   "source": [
    "cdc_jackson['date'] = pd.to_datetime(cdc_jackson['date'])\n",
    "\n",
    "# Filtering the dates\n",
    "cdc_jackson = cdc_jackson.loc[(cdc_jackson['date'] >= '2020-02-01') & (cdc_jackson['date'] <= '2021-10-01')]\n",
    "cdc_jackson.sort_values(by = 'date', inplace = True)\n",
    "\n",
    "cdc_jackson.head()"
   ]
  },
  {
   "cell_type": "markdown",
   "metadata": {},
   "source": [
    "### 0.5 Saving Intermediary cleaned files as csv"
   ]
  },
  {
   "cell_type": "code",
   "execution_count": 13,
   "metadata": {},
   "outputs": [],
   "source": [
    "jackson_cases.to_csv(\"jackson_confirmed_cases.csv\")\n",
    "cdc_jackson.to_csv(\"jackson_cdc_mandates.csv\")\n",
    "jackson_mask_compliance.to_csv(\"jackson_mask_compliance_survey.csv\")"
   ]
  },
  {
   "cell_type": "markdown",
   "metadata": {},
   "source": [
    "## Step 1: Analyze\n",
    "\n",
    "* 1.a Initial Descriptive Analysis of covid cases\n",
    "* 1.b Identifying Change Points in Data\n",
    "* 1.c Understanding the methology being used"
   ]
  },
  {
   "cell_type": "markdown",
   "metadata": {},
   "source": [
    "### 1.a Initial Descriptive Analysis of covid cases"
   ]
  },
  {
   "cell_type": "code",
   "execution_count": 14,
   "metadata": {},
   "outputs": [],
   "source": [
    "# Calculating the daily infection rate change\n",
    "\n",
    "jackson_cases[\"case_rate\"] = pd.Series(np.gradient(jackson_cases[\"cases\"]), jackson_cases[\"date\"], name='case_rate').values"
   ]
  },
  {
   "cell_type": "code",
   "execution_count": 15,
   "metadata": {},
   "outputs": [
    {
     "data": {
      "image/png": "[encoded data removed]",
      "text/plain": [
       "<Figure size 1008x432 with 1 Axes>"
      ]
     },
     "metadata": {
      "needs_background": "light"
     },
     "output_type": "display_data"
    }
   ],
   "source": [
    "plt.figure(figsize=(14,6))\n",
    "sns.lineplot(data = jackson_cases, x = 'date', y='case_rate')\n",
    "plt.xlabel('Date')\n",
    "plt.ylabel('Daily rate change')\n",
    "plt.title('Daily COVID-19 cases change rate in Jackson, Missouri')\n",
    "plt.show() "
   ]
  },
  {
   "cell_type": "markdown",
   "metadata": {},
   "source": [
    "This is quite an interesting visualization as we observe little change uptil March 2021 and then a sharp rise of 3000 cases around March 2021, followed by a sharp drop in April 2021."
   ]
  },
  {
   "cell_type": "code",
   "execution_count": 16,
   "metadata": {},
   "outputs": [
    {
     "data": {
      "image/png": "[encoded data removed]",
      "text/plain": [
       "<Figure size 1008x432 with 1 Axes>"
      ]
     },
     "metadata": {
      "needs_background": "light"
     },
     "output_type": "display_data"
    }
   ],
   "source": [
    "plt.figure(figsize=(14,6))\n",
    "sns.lineplot(data = jackson_cases, x = 'date', y='cases')\n",
    "plt.xlabel('Dates')\n",
    "plt.ylabel('Total Cases till Date')\n",
    "plt.title('Cummulative Cases in Jackson, Missouri')\n",
    "plt.show()  "
   ]
  },
  {
   "cell_type": "markdown",
   "metadata": {},
   "source": [
    "### 1.b Identifying Change Points in Data\n",
    "\n",
    "The change in color of graph background shows the change point in the cases graph.\n",
    "\n",
    "I am using the Pelt Search method and Prophet tool Recommendation attributed to Eli Copron and Charles Reinertson respectively"
   ]
  },
  {
   "cell_type": "code",
   "execution_count": 17,
   "metadata": {},
   "outputs": [
    {
     "data": {
      "image/png": "[encoded data removed]",
      "text/plain": [
       "<Figure size 1008x432 with 1 Axes>"
      ]
     },
     "metadata": {
      "needs_background": "light"
     },
     "output_type": "display_data"
    }
   ],
   "source": [
    "# Using the case rate to run PElt Search method from ruptures to detect change points\n",
    "\n",
    "covidcases=np.array(jackson_cases['case_rate'])\n",
    "\n",
    "model='rbf'\n",
    "algo=rpt.Pelt(model=model).fit(covidcases)\n",
    "result=algo.predict(pen=10)\n",
    "\n",
    "breaks_rpt=[]\n",
    "for i in result:\n",
    "    breaks_rpt.append(jackson_cases.index[i-1])\n",
    "\n",
    "rpt.display(covidcases, result, figsize=(14,6))\n",
    "plt.title(\"Change Point Detection of COVID-19 Infection in Jackson county, Missouri\")\n",
    "plt.xlabel(\"Dataframe Index\")\n",
    "plt.ylabel(\"Daily Infection Rate Change\")\n",
    "plt.show()"
   ]
  },
  {
   "cell_type": "markdown",
   "metadata": {},
   "source": [
    "We use Change point detection to analyze the changes in the above graph. We can then compare this to the masking policy change. According to the CDC dataset, masks were never mandated in the Jackson county. Thus for our analysis we can use the CDC National guidelines. While these were not forcefully implemented in the counties, it was the suggestion given the citizens. The CDC covid-19 timeline (https://www.cdc.gov/museum/timeline/covid19.html) was referenced to understand the timeline of national mask suggestions.\n"
   ]
  },
  {
   "cell_type": "code",
   "execution_count": 18,
   "metadata": {},
   "outputs": [],
   "source": [
    "# Defining the timeline of CDC recommendation\n",
    "\n",
    "mask_guidelines_1 = '2020-04-03'\n",
    "openspace_guidelines_removed1 = '2021-01-01'\n",
    "openspace_guidelines_set2  = '2021-02-01'\n",
    "openspace_guidelines_removed2 = '2021-06-10'\n",
    "all_guidelines_removed = '2022-02-25'\n"
   ]
  },
  {
   "cell_type": "code",
   "execution_count": 19,
   "metadata": {},
   "outputs": [],
   "source": [
    "#Adding a separate column for mask guidelines by CDC in our analysis dataframe\n",
    "\n",
    "all_mask_guidelines=[]\n",
    "\n",
    "for i in list(jackson_cases.date):\n",
    "    if str(i) < mask_guidelines_1:\n",
    "        all_mask_guidelines.append(\"No_mask_required\")\n",
    "    elif str(i) < openspace_guidelines_removed1:\n",
    "        all_mask_guidelines.append(\"Mask_required_all_places\")\n",
    "    elif str(i) < openspace_guidelines_set2:\n",
    "        all_mask_guidelines.append(\"Mask_required_close_spaces\")\n",
    "    elif str(i) < openspace_guidelines_removed2:\n",
    "        all_mask_guidelines.append(\"Mask_required_all_places\")\n",
    "    elif str(i) < all_guidelines_removed:\n",
    "        all_mask_guidelines.append(\"Mask_required_close_spaces\")\n",
    "    else:\n",
    "        all_mask_guidelines.append(\"No_mask_required\")\n",
    "        \n",
    "jackson_cases['Masks_requirement']= all_mask_guidelines"
   ]
  },
  {
   "cell_type": "code",
   "execution_count": 20,
   "metadata": {},
   "outputs": [],
   "source": [
    "# Fit and predict on the pelt search method for ruptures again \n",
    "casesdata=np.array(jackson_cases['case_rate'])\n",
    "\n",
    "model='rbf'\n",
    "algo=rpt.Pelt(model=model).fit(casesdata)\n",
    "result=algo.predict(pen=10)\n",
    "\n",
    "breaks_rpt=[]\n",
    "for i in result:\n",
    "    breaks_rpt.append(jackson_cases.index[i-1])"
   ]
  },
  {
   "cell_type": "markdown",
   "metadata": {},
   "source": [
    "## Step 2: Visualize"
   ]
  },
  {
   "cell_type": "code",
   "execution_count": 21,
   "metadata": {},
   "outputs": [
    {
     "data": {
      "image/png": "[encoded data removed]",
      "text/plain": [
       "<Figure size 1008x576 with 1 Axes>"
      ]
     },
     "metadata": {
      "needs_background": "light"
     },
     "output_type": "display_data"
    }
   ],
   "source": [
    "# Filtering data\n",
    "mask_all_places = jackson_cases[jackson_cases['Masks_requirement'] == 'Mask_required_all_places']\n",
    "mask_close_spaces = jackson_cases[jackson_cases['Masks_requirement'] == 'Mask_required_close_spaces']\n",
    "no_masks_required = jackson_cases[jackson_cases['Masks_requirement'] == 'No_mask_required']\n",
    "\n",
    "\n",
    "fig = plt.gcf()\n",
    "plt.xticks(rotation=30)\n",
    "plt.title(\"Change Point Detection of COVID-19 Cases in Jackson county, Missouri\")\n",
    "plt.xlabel(\"Time\")\n",
    "plt.ylabel(\"Daily Covid-19 Infection Rate Change\")\n",
    "plt.ylim((-200,1000))\n",
    "\n",
    "# Plotting different data points setting mask policy as the color\n",
    "\n",
    "plt.plot(mask_all_places.date,mask_all_places.case_rate, 'ro', label='Mask Required(All places)')\n",
    "plt.plot(mask_close_spaces.date,mask_close_spaces.case_rate, 'go', label='Mask Required(Closed Spaces)')\n",
    "plt.plot(no_masks_required.date,no_masks_required.case_rate, 'yo', label='No masks Required')\n",
    "\n",
    "\n",
    "leg = plt.legend(loc=\"upper right\")\n",
    "\n",
    "# Plotting the verticle lines for highlighting changepoints\n",
    "for x in breaks_rpt:\n",
    "    plt.axvline(jackson_cases.loc[x, 'date'], lw=1, color='blue', label='Change points')\n",
    "    \n",
    "fig.set_size_inches(14, 8)\n",
    "fig.savefig('part1_a4_visualization.png', dpi=100)"
   ]
  },
  {
   "cell_type": "markdown",
   "metadata": {},
   "source": [
    "## Step 3: Inference"
   ]
  },
  {
   "cell_type": "markdown",
   "metadata": {},
   "source": [
    "We can note the following points from the visualization:\n",
    "\n",
    "1. During the first part of no mask guidelines, the cases were at a minimal, as Covid-19 had not spread to all parts of US. \n",
    "\n",
    "2. During the 1st change-point, around July 2020 we can observe that even though the mask guidelines required compulsory masks, there was a slight rise in cases. This could be as Jackson county did not have any strict mask mandates as this was also a few month into the pandemic when people were more aware about COVID-19.\n",
    "\n",
    "3. A similar pattern is observed in the 2nd change-point, around November 2020, where the cases continue to rise.\n",
    "\n",
    "4. During the 3rd change-point, February 2021, we can see that the even though mask guidelines were relaxed, there was still a decline in the cases. This could be due to the fact that vaccines had started rolling out.\n",
    "\n",
    "5. Between the 4th and 5th change-point, from July to September 2021, with the relaxed mask guidelines the cases increased again but decreased soon.\n",
    "\n",
    "In conclusion, there isn't a very direct relation between mask guidelines and the Covid-19 cases. This makes sense since Jackson county did not have a strict mask mandate so people would not be following CDC guidelines strictly, but rather use caution when they deem fit. We also observe a clear decrease once the vaccines started being provided"
   ]
  },
  {
   "cell_type": "code",
   "execution_count": null,
   "metadata": {},
   "outputs": [],
   "source": []
  }
 ],
 "metadata": {
  "kernelspec": {
   "display_name": "Python 3",
   "language": "python",
   "name": "python3"
  },
  "language_info": {
   "codemirror_mode": {
    "name": "ipython",
    "version": 3
   },
   "file_extension": ".py",
   "mimetype": "text/x-python",
   "name": "python",
   "nbconvert_exporter": "python",
   "pygments_lexer": "ipython3",
   "version": "3.8.8"
  }
 },
 "nbformat": 4,
 "nbformat_minor": 1
}
